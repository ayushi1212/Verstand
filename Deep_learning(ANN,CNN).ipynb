{
 "cells": [
  {
   "cell_type": "code",
   "execution_count": 1,
   "id": "medium-estate",
   "metadata": {},
   "outputs": [],
   "source": [
    "import tensorflow as tf"
   ]
  },
  {
   "cell_type": "code",
   "execution_count": 2,
   "id": "prime-excuse",
   "metadata": {},
   "outputs": [],
   "source": [
    "from tensorflow import keras"
   ]
  },
  {
   "cell_type": "code",
   "execution_count": 3,
   "id": "textile-flesh",
   "metadata": {},
   "outputs": [],
   "source": [
    "from tensorflow.keras import datasets, layers, models"
   ]
  },
  {
   "cell_type": "code",
   "execution_count": 4,
   "id": "after-phoenix",
   "metadata": {},
   "outputs": [],
   "source": [
    "import matplotlib.pyplot as plt"
   ]
  },
  {
   "cell_type": "code",
   "execution_count": 5,
   "id": "oriental-elite",
   "metadata": {},
   "outputs": [],
   "source": [
    "%matplotlib inline"
   ]
  },
  {
   "cell_type": "code",
   "execution_count": 6,
   "id": "bacterial-proportion",
   "metadata": {},
   "outputs": [],
   "source": [
    "import numpy as np"
   ]
  },
  {
   "cell_type": "code",
   "execution_count": 7,
   "id": "frozen-shirt",
   "metadata": {},
   "outputs": [],
   "source": [
    "(x_train, y_train),(x_test, y_test) =  datasets.cifar10.load_data()"
   ]
  },
  {
   "cell_type": "code",
   "execution_count": 8,
   "id": "little-parade",
   "metadata": {},
   "outputs": [
    {
     "data": {
      "text/plain": [
       "(50000, 32, 32, 3)"
      ]
     },
     "execution_count": 8,
     "metadata": {},
     "output_type": "execute_result"
    }
   ],
   "source": [
    "x_train.shape"
   ]
  },
  {
   "cell_type": "code",
   "execution_count": 9,
   "id": "loving-montgomery",
   "metadata": {},
   "outputs": [
    {
     "data": {
      "text/plain": [
       "array([[6],\n",
       "       [9],\n",
       "       [9],\n",
       "       [4],\n",
       "       [1],\n",
       "       [1]], dtype=uint8)"
      ]
     },
     "execution_count": 9,
     "metadata": {},
     "output_type": "execute_result"
    }
   ],
   "source": [
    "y_train[:6]"
   ]
  },
  {
   "cell_type": "markdown",
   "id": "earned-stuart",
   "metadata": {},
   "source": [
    "# Reshaping array y into 1 dim"
   ]
  },
  {
   "cell_type": "code",
   "execution_count": 10,
   "id": "appropriate-yemen",
   "metadata": {},
   "outputs": [],
   "source": [
    "y_train = y_train.reshape(-1, )"
   ]
  },
  {
   "cell_type": "code",
   "execution_count": 11,
   "id": "tight-veteran",
   "metadata": {},
   "outputs": [],
   "source": [
    "classes = [\"airplane\",\"automobile\", \"bird\", \"cat\", \"deer\", \"dog\",\"frog\", \"horse\",\"ship\",\"truck\"]"
   ]
  },
  {
   "cell_type": "code",
   "execution_count": 36,
   "id": "injured-people",
   "metadata": {},
   "outputs": [],
   "source": [
    "def plot_sample(X, y, index):\n",
    "    plt.figure(figsize=(15, 2))\n",
    "    plt.imshow(X[index])\n",
    "    plt.xlabel(classes[y[index]])"
   ]
  },
  {
   "cell_type": "code",
   "execution_count": 37,
   "id": "historic-chester",
   "metadata": {},
   "outputs": [
    {
     "data": {
      "image/png": "[encoded data removed]",
      "text/plain": [
       "<Figure size 1080x144 with 1 Axes>"
      ]
     },
     "metadata": {
      "needs_background": "light"
     },
     "output_type": "display_data"
    }
   ],
   "source": [
    "plot_sample(x_train, y_train, 5)"
   ]
  },
  {
   "cell_type": "markdown",
   "id": "fallen-boards",
   "metadata": {},
   "source": [
    "# Normalizing Data"
   ]
  },
  {
   "cell_type": "code",
   "execution_count": 14,
   "id": "liable-prior",
   "metadata": {},
   "outputs": [],
   "source": [
    "x_train = x_train/255\n",
    "x_test = x_test/255"
   ]
  },
  {
   "cell_type": "markdown",
   "id": "exempt-people",
   "metadata": {},
   "source": [
    "# Building ANN Model"
   ]
  },
  {
   "cell_type": "code",
   "execution_count": 48,
   "id": "final-messenger",
   "metadata": {},
   "outputs": [
    {
     "name": "stdout",
     "output_type": "stream",
     "text": [
      "Epoch 1/10\n",
      "1563/1563 [==============================] - 946s 605ms/step - loss: 1.8589 - accuracy: 0.3346\n",
      "Epoch 2/10\n",
      "1563/1563 [==============================] - 1032s 660ms/step - loss: 1.6537 - accuracy: 0.4154\n",
      "Epoch 3/10\n",
      "1563/1563 [==============================] - 1103s 705ms/step - loss: 1.5680 - accuracy: 0.4440\n",
      "Epoch 4/10\n",
      "1563/1563 [==============================] - 1025s 656ms/step - loss: 1.5076 - accuracy: 0.4695\n",
      "Epoch 5/10\n",
      "1563/1563 [==============================] - 922s 590ms/step - loss: 1.4583 - accuracy: 0.4834\n",
      "Epoch 6/10\n",
      "1563/1563 [==============================] - 933s 597ms/step - loss: 1.4129 - accuracy: 0.5026\n",
      "Epoch 7/10\n",
      "1563/1563 [==============================] - 939s 601ms/step - loss: 1.3760 - accuracy: 0.5139\n",
      "Epoch 8/10\n",
      "1563/1563 [==============================] - 962s 615ms/step - loss: 1.3429 - accuracy: 0.5273\n",
      "Epoch 9/10\n",
      "1563/1563 [==============================] - 975s 624ms/step - loss: 1.3055 - accuracy: 0.5389\n",
      "Epoch 10/10\n",
      "1563/1563 [==============================] - 1097s 702ms/step - loss: 1.2753 - accuracy: 0.5515\n"
     ]
    },
    {
     "data": {
      "text/plain": [
       "<tensorflow.python.keras.callbacks.History at 0x1ea7bbfd1f0>"
      ]
     },
     "execution_count": 48,
     "metadata": {},
     "output_type": "execute_result"
    }
   ],
   "source": [
    "ann = keras.Sequential([\n",
    "    keras.layers.Flatten(input_shape = (32,32,3)),\n",
    "    keras.layers.Dense(3000, activation = 'relu'),\n",
    "    keras.layers.Dense(1000, activation = 'relu'),\n",
    "    keras.layers.Dense(10, activation = 'sigmoid')\n",
    "])\n",
    "ann.compile(optimizer = 'SGD',\n",
    "            loss= 'sparse_categorical_crossentropy',\n",
    "            metrics = ['accuracy'])\n",
    "ann.fit(x_train, y_train, epochs = 10)"
   ]
  },
  {
   "cell_type": "code",
   "execution_count": 53,
   "id": "important-rider",
   "metadata": {},
   "outputs": [
    {
     "name": "stdout",
     "output_type": "stream",
     "text": [
      "313/313 [==============================] - 80s 255ms/step - loss: 1.6052 - accuracy: 0.4370\n"
     ]
    },
    {
     "data": {
      "text/plain": [
       "[1.6051586866378784, 0.43700000643730164]"
      ]
     },
     "execution_count": 53,
     "metadata": {},
     "output_type": "execute_result"
    }
   ],
   "source": [
    "ann.evaluate(x_test, y_test)"
   ]
  },
  {
   "cell_type": "code",
   "execution_count": 54,
   "id": "utility-windows",
   "metadata": {},
   "outputs": [
    {
     "name": "stdout",
     "output_type": "stream",
     "text": [
      "classification report: \n",
      "               precision    recall  f1-score   support\n",
      "\n",
      "           0       0.58      0.53      0.55      1000\n",
      "           1       0.61      0.48      0.54      1000\n",
      "           2       0.47      0.29      0.36      1000\n",
      "           3       0.41      0.27      0.32      1000\n",
      "           4       0.61      0.17      0.26      1000\n",
      "           5       0.52      0.25      0.33      1000\n",
      "           6       0.55      0.53      0.54      1000\n",
      "           7       0.55      0.52      0.53      1000\n",
      "           8       0.75      0.45      0.56      1000\n",
      "           9       0.24      0.89      0.37      1000\n",
      "\n",
      "    accuracy                           0.44     10000\n",
      "   macro avg       0.53      0.44      0.44     10000\n",
      "weighted avg       0.53      0.44      0.44     10000\n",
      "\n"
     ]
    }
   ],
   "source": [
    "from sklearn.metrics import confusion_matrix, classification_report\n",
    "import numpy as np\n",
    "y_pred = ann.predict(x_test)\n",
    "y_pred_classes = [np.argmax(element) for element in y_pred]\n",
    "print('classification report: \\n', classification_report(y_test, y_pred_classes))"
   ]
  },
  {
   "cell_type": "markdown",
   "id": "surrounded-manor",
   "metadata": {},
   "source": [
    "# CNN Model"
   ]
  },
  {
   "cell_type": "code",
   "execution_count": 16,
   "id": "fabulous-assurance",
   "metadata": {},
   "outputs": [],
   "source": [
    "cnn = keras.Sequential([\n",
    "    \n",
    "    keras.layers.Conv2D(filters=32, kernel_size=(3,3), activation='relu', input_shape=(32,32,3)),\n",
    "    keras.layers.MaxPooling2D((2,2)),\n",
    "    \n",
    "    keras.layers.Conv2D(filters=32, kernel_size=(3,3), activation='relu', input_shape=(32,32,3)),\n",
    "    layers.MaxPooling2D((2,2)),\n",
    "    \n",
    "    keras.layers.Flatten(),\n",
    "    keras.layers.Dense(64, activation='relu'),\n",
    "    keras.layers.Dense(10, activation='softmax')\n",
    "    \n",
    "])"
   ]
  },
  {
   "cell_type": "code",
   "execution_count": 18,
   "id": "pretty-reset",
   "metadata": {},
   "outputs": [],
   "source": [
    "cnn.compile(optimizer='adam',\n",
    "             loss='sparse_categorical_crossentropy',\n",
    "             metrics= ['accuracy'])"
   ]
  },
  {
   "cell_type": "code",
   "execution_count": 19,
   "id": "impaired-maine",
   "metadata": {},
   "outputs": [
    {
     "name": "stdout",
     "output_type": "stream",
     "text": [
      "Wall time: 0 ns\n",
      "Epoch 1/10\n",
      "1563/1563 [==============================] - 257s 164ms/step - loss: 1.4956 - accuracy: 0.4604\n",
      "Epoch 2/10\n",
      "1563/1563 [==============================] - 279s 178ms/step - loss: 1.1821 - accuracy: 0.5842\n",
      "Epoch 3/10\n",
      "1563/1563 [==============================] - 279s 178ms/step - loss: 1.0560 - accuracy: 0.6314\n",
      "Epoch 4/10\n",
      "1563/1563 [==============================] - 313s 200ms/step - loss: 0.9732 - accuracy: 0.6592\n",
      "Epoch 5/10\n",
      "1563/1563 [==============================] - 304s 194ms/step - loss: 0.9115 - accuracy: 0.6798\n",
      "Epoch 6/10\n",
      "1563/1563 [==============================] - 308s 197ms/step - loss: 0.8651 - accuracy: 0.6977\n",
      "Epoch 7/10\n",
      "1563/1563 [==============================] - 321s 205ms/step - loss: 0.8208 - accuracy: 0.7125\n",
      "Epoch 8/10\n",
      "1563/1563 [==============================] - 319s 204ms/step - loss: 0.7851 - accuracy: 0.7262\n",
      "Epoch 9/10\n",
      "1563/1563 [==============================] - 316s 202ms/step - loss: 0.7502 - accuracy: 0.7370\n",
      "Epoch 10/10\n",
      "1563/1563 [==============================] - 317s 203ms/step - loss: 0.7170 - accuracy: 0.7489 - l - ETA: 2s - loss: 0\n"
     ]
    },
    {
     "data": {
      "text/plain": [
       "<tensorflow.python.keras.callbacks.History at 0x1c1cf966c10>"
      ]
     },
     "execution_count": 19,
     "metadata": {},
     "output_type": "execute_result"
    }
   ],
   "source": [
    "%time\n",
    "cnn.fit(x_train, y_train, epochs = 10)"
   ]
  },
  {
   "cell_type": "code",
   "execution_count": 20,
   "id": "balanced-apollo",
   "metadata": {},
   "outputs": [
    {
     "name": "stdout",
     "output_type": "stream",
     "text": [
      "313/313 [==============================] - 18s 58ms/step - loss: 0.9362 - accuracy: 0.6837\n"
     ]
    },
    {
     "data": {
      "text/plain": [
       "[0.9362078905105591, 0.6837000250816345]"
      ]
     },
     "execution_count": 20,
     "metadata": {},
     "output_type": "execute_result"
    }
   ],
   "source": [
    "cnn.evaluate(x_test, y_test)"
   ]
  },
  {
   "cell_type": "code",
   "execution_count": 21,
   "id": "sealed-asian",
   "metadata": {},
   "outputs": [],
   "source": [
    "y_test = y_test.reshape(-1,)"
   ]
  },
  {
   "cell_type": "code",
   "execution_count": 27,
   "id": "destroyed-labor",
   "metadata": {},
   "outputs": [],
   "source": [
    "y_pred = cnn.predict(x_test)"
   ]
  },
  {
   "cell_type": "code",
   "execution_count": 28,
   "id": "hundred-finder",
   "metadata": {},
   "outputs": [],
   "source": [
    "y_classes = [np.argmax(element) for element in y_pred]"
   ]
  },
  {
   "cell_type": "markdown",
   "id": "vocal-spank",
   "metadata": {},
   "source": [
    "# Results"
   ]
  },
  {
   "cell_type": "code",
   "execution_count": 38,
   "id": "universal-pathology",
   "metadata": {},
   "outputs": [
    {
     "data": {
      "image/png": "[encoded data removed]",
      "text/plain": [
       "<Figure size 1080x144 with 1 Axes>"
      ]
     },
     "metadata": {
      "needs_background": "light"
     },
     "output_type": "display_data"
    }
   ],
   "source": [
    "plot_sample(x_test, y_test, 7)"
   ]
  },
  {
   "cell_type": "code",
   "execution_count": 34,
   "id": "framed-syndicate",
   "metadata": {},
   "outputs": [
    {
     "data": {
      "text/plain": [
       "'frog'"
      ]
     },
     "execution_count": 34,
     "metadata": {},
     "output_type": "execute_result"
    }
   ],
   "source": [
    "classes[y_classes[7]]"
   ]
  },
  {
   "cell_type": "code",
   "execution_count": 39,
   "id": "analyzed-czech",
   "metadata": {},
   "outputs": [
    {
     "data": {
      "image/png": "[encoded data removed]",
      "text/plain": [
       "<Figure size 1080x144 with 1 Axes>"
      ]
     },
     "metadata": {
      "needs_background": "light"
     },
     "output_type": "display_data"
    }
   ],
   "source": [
    "plot_sample(x_test, y_test, 8)"
   ]
  },
  {
   "cell_type": "code",
   "execution_count": 40,
   "id": "ideal-abortion",
   "metadata": {},
   "outputs": [
    {
     "data": {
      "text/plain": [
       "'cat'"
      ]
     },
     "execution_count": 40,
     "metadata": {},
     "output_type": "execute_result"
    }
   ],
   "source": [
    "classes[y_classes[8]]"
   ]
  },
  {
   "cell_type": "code",
   "execution_count": 41,
   "id": "foreign-fellow",
   "metadata": {},
   "outputs": [
    {
     "data": {
      "image/png": "[encoded data removed]",
      "text/plain": [
       "<Figure size 1080x144 with 1 Axes>"
      ]
     },
     "metadata": {
      "needs_background": "light"
     },
     "output_type": "display_data"
    }
   ],
   "source": [
    "plot_sample(x_test, y_test, 3)"
   ]
  },
  {
   "cell_type": "code",
   "execution_count": 42,
   "id": "processed-guest",
   "metadata": {},
   "outputs": [
    {
     "data": {
      "text/plain": [
       "'airplane'"
      ]
     },
     "execution_count": 42,
     "metadata": {},
     "output_type": "execute_result"
    }
   ],
   "source": [
    "classes[y_classes[3]]"
   ]
  },
  {
   "cell_type": "code",
   "execution_count": null,
   "id": "reasonable-print",
   "metadata": {},
   "outputs": [],
   "source": []
  }
 ],
 "metadata": {
  "kernelspec": {
   "display_name": "Python 3",
   "language": "python",
   "name": "python3"
  },
  "language_info": {
   "codemirror_mode": {
    "name": "ipython",
    "version": 3
   },
   "file_extension": ".py",
   "mimetype": "text/x-python",
   "name": "python",
   "nbconvert_exporter": "python",
   "pygments_lexer": "ipython3",
   "version": "3.8.5"
  }
 },
 "nbformat": 4,
 "nbformat_minor": 5
}
